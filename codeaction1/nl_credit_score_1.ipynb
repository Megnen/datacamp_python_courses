# -*- coding: utf-8 -*-
"""
Created on Wed Sep  4 10:32:42 2019

@author: Werner.deWiljes

Goal:
        Create demographic input data for NL credit score.
        
Data output:
    - 3 year hisotric
    - age
    - sector
    - legalform
    - location   
"""
 

# Libraries
import numpy as np
import pandas as pd
import matplotlib.pyplot as plt
import seaborn as sns

# Options
pd.set_option('display.max_columns', 50)
pd.set_option('display.max_colwidth', 250)

# Import
path_inputdata = "C://Users//Werner.dewiljes//Documents//projecten//nl_credit_score//input//"

df_co = pd.read_csv(path_inputdata + "COMPANY.csv", sep= ";")
df_co.columns = map(str.lower, df_co.columns) # headers to lowercase
df_co.shape
df_co.head()
df_co.info()

df_aa = pd.read_csv(path_inputdata + "ANNUAL_ACCOUNT.csv", sep= ";")
df_aa.columns = map(str.lower, df_aa.columns)
df_aa.shape
df_aa.head()
df_aa.info()

#explore
plt.figure()
sns.countplot(x= 'rechtsvorm', data= df_co)

plt.figure()
sns.countplot(x= 'landcode', data= df_co)

plt.figure()
sns.countplot(x= 'jaartal', data= df_aa)

# Combine
df_aa_3y = df_aa[df_aa['jaartal'] >= 2016]
df_aa_3y = df_aa_3y[['bedrijfsnummer', 'jaartal', 'personeel', 'sbicode']] 

def is_unique(df_col):
    return len(df_col) == len(pd.unique(df_col))
    
is_unique(df_co['bedrijfsnummer'])
is_unique(df_aa['bedrijfsnummer'])

df_comb_3y = pd.merge(df_aa_3y, df_co, on= 'bedrijfsnummer', how= 'left')
df_comb_3y = df_comb_3y[['bedrijfsnummer', 'jaartal', 'personeel', 'sbicode', 'rechtsvorm', 'startdatum', 'postcode', 'landcode', 'branchecode', 'branche_kort']]
df_comb_3y.head()
