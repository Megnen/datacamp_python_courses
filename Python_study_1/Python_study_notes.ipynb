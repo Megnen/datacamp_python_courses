{
 "cells": [
  {
   "cell_type": "markdown",
   "metadata": {},
   "source": [
    "# keywords"
   ]
  },
  {
   "cell_type": "code",
   "execution_count": null,
   "metadata": {},
   "outputs": [],
   "source": [
    "## Keywords in Python:  Python language also reserves some of keywords that convey special meaning. Knowledge of these is necessary part of learning this language. Below is list of keywords registered by python .\n",
    "\n",
    "False, elif, lambda,\n",
    "None, else, nonlocal,\n",
    "True, except, not,\n",
    "and, finally, or,\n",
    "as, for, pass,\n",
    "assert, from, raise,\n",
    "break, global, return,\n",
    "class, if, try,\n",
    "continue, import, while,\n",
    "def, in, with,\n",
    "del, is, yield,\n"
   ]
  },
  {
   "cell_type": "code",
   "execution_count": 3,
   "metadata": {},
   "outputs": [
    {
     "name": "stdout",
     "output_type": "stream",
     "text": [
      "True is a python keyword\n",
      "Allright is not a python keyword\n"
     ]
    }
   ],
   "source": [
    "# checking which are keywords \n",
    "import keyword\n",
    "\n",
    "if keyword.iskeyword(\"True\"): \n",
    "        print (\"True\"  + \" is a python keyword\") \n",
    "else :  print ( \"True\" + \" is not a python keyword\") \n",
    "    \n",
    "\n",
    "if keyword.iskeyword(\"Allright\"): \n",
    "        print (\"Allright\"  + \" is a python keyword\") \n",
    "else :  print ( \"Allright\" + \" is not a python keyword\") \n"
   ]
  },
  {
   "cell_type": "code",
   "execution_count": 5,
   "metadata": {},
   "outputs": [],
   "source": [
    "# Function to add two numbers  \n",
    "def add(num1, num2): \n",
    "    return num1 + num2 \n",
    "  \n",
    "# Function to subtract two numbers  \n",
    "def subtract(num1, num2): \n",
    "    return num1 - num2 \n",
    "  \n",
    "# Function to multiply two numbers \n",
    "def multiply(num1, num2): \n",
    "    return num1 * num2 \n",
    "  \n",
    "# Function to divide two numbers \n",
    "def divide(num1, num2): \n",
    "    return num1 / num2 \n",
    "  \n"
   ]
  },
  {
   "cell_type": "markdown",
   "metadata": {},
   "source": [
    "# Python | Remove duplicate lists in tuples (Preserving Order)\n"
   ]
  },
  {
   "cell_type": "code",
   "execution_count": 7,
   "metadata": {},
   "outputs": [
    {
     "name": "stdout",
     "output_type": "stream",
     "text": [
      "The original tuple is : ([4, 7, 8], [1, 2, 3], [4, 7, 8], [9, 10, 11], [1, 2, 3])\n",
      "The unique lists tuple is : [[4, 7, 8], [1, 2, 3], [9, 10, 11]]\n"
     ]
    }
   ],
   "source": [
    "# Method #1 : Using list comprehension + set()\n",
    "# Python3 code to demonstrate working of \n",
    "# Remove duplicate lists in tuples(Preserving Order) \n",
    "# Using list comprehension + set() \n",
    "\n",
    "# Initializing tuple \n",
    "test_tup = ([4, 7, 8], [1, 2, 3], [4, 7, 8], [9, 10, 11], [1, 2, 3]) \n",
    "\n",
    "# printing original tuple \n",
    "print(\"The original tuple is : \" + str(test_tup)) \n",
    "\n",
    "# Remove duplicate lists in tuples(Preserving Order) \n",
    "# Using list comprehension + set() \n",
    "temp = set() \n",
    "res = [ele for ele in test_tup if not(tuple(ele) in temp or temp.add(tuple(ele)))] \n",
    "\n",
    "# printing result \n",
    "print(\"The unique lists tuple is : \" + str(res)) \n"
   ]
  },
  {
   "cell_type": "code",
   "execution_count": 6,
   "metadata": {},
   "outputs": [
    {
     "name": "stdout",
     "output_type": "stream",
     "text": [
      "The original tuple is : ([4, 7, 8], [1, 2, 3], [4, 7, 8], [9, 10, 11], [1, 2, 3])\n",
      "The unique lists tuple is : [[4, 7, 8], [1, 2, 3], [9, 10, 11]]\n"
     ]
    }
   ],
   "source": [
    "# Method #2 : Using OrderedDict() + tuple()\n",
    "# Python3 code to demonstrate working of \n",
    "# Remove duplicate lists in tuples(Preserving Order) \n",
    "# Using OrderedDict() + tuple() \n",
    "from collections import OrderedDict \n",
    "\n",
    "# Initializing tuple \n",
    "test_tup = ([4, 7, 8], [1, 2, 3], [4, 7, 8], [9, 10, 11], [1, 2, 3]) \n",
    "\n",
    "# printing original tuple \n",
    "print(\"The original tuple is : \" + str(test_tup)) \n",
    "\n",
    "# Remove duplicate lists in tuples(Preserving Order) \n",
    "# Using OrderedDict() + tuple() \n",
    "res = list(OrderedDict((tuple(x), x) for x in test_tup).values()) \n",
    "\n",
    "# printing result \n",
    "print(\"The unique lists tuple is : \" + str(res)) \n"
   ]
  },
  {
   "cell_type": "code",
   "execution_count": null,
   "metadata": {},
   "outputs": [],
   "source": []
  },
  {
   "cell_type": "code",
   "execution_count": null,
   "metadata": {},
   "outputs": [],
   "source": []
  },
  {
   "cell_type": "code",
   "execution_count": null,
   "metadata": {},
   "outputs": [],
   "source": []
  },
  {
   "cell_type": "code",
   "execution_count": null,
   "metadata": {},
   "outputs": [],
   "source": []
  },
  {
   "cell_type": "code",
   "execution_count": null,
   "metadata": {},
   "outputs": [],
   "source": []
  },
  {
   "cell_type": "code",
   "execution_count": null,
   "metadata": {},
   "outputs": [],
   "source": []
  },
  {
   "cell_type": "code",
   "execution_count": null,
   "metadata": {},
   "outputs": [],
   "source": []
  },
  {
   "cell_type": "code",
   "execution_count": null,
   "metadata": {},
   "outputs": [],
   "source": []
  },
  {
   "cell_type": "code",
   "execution_count": null,
   "metadata": {},
   "outputs": [],
   "source": []
  },
  {
   "cell_type": "code",
   "execution_count": null,
   "metadata": {},
   "outputs": [],
   "source": []
  },
  {
   "cell_type": "code",
   "execution_count": null,
   "metadata": {},
   "outputs": [],
   "source": []
  },
  {
   "cell_type": "code",
   "execution_count": null,
   "metadata": {},
   "outputs": [],
   "source": []
  },
  {
   "cell_type": "code",
   "execution_count": null,
   "metadata": {},
   "outputs": [],
   "source": []
  },
  {
   "cell_type": "code",
   "execution_count": null,
   "metadata": {},
   "outputs": [],
   "source": []
  },
  {
   "cell_type": "code",
   "execution_count": null,
   "metadata": {},
   "outputs": [],
   "source": []
  },
  {
   "cell_type": "code",
   "execution_count": null,
   "metadata": {},
   "outputs": [],
   "source": []
  },
  {
   "cell_type": "code",
   "execution_count": null,
   "metadata": {},
   "outputs": [],
   "source": []
  },
  {
   "cell_type": "code",
   "execution_count": null,
   "metadata": {},
   "outputs": [],
   "source": []
  },
  {
   "cell_type": "code",
   "execution_count": null,
   "metadata": {},
   "outputs": [],
   "source": []
  }
 ],
 "metadata": {
  "kernelspec": {
   "display_name": "Python 3",
   "language": "python",
   "name": "python3"
  },
  "language_info": {
   "codemirror_mode": {
    "name": "ipython",
    "version": 3
   },
   "file_extension": ".py",
   "mimetype": "text/x-python",
   "name": "python",
   "nbconvert_exporter": "python",
   "pygments_lexer": "ipython3",
   "version": "3.6.5"
  }
 },
 "nbformat": 4,
 "nbformat_minor": 2
}
